{
 "cells": [
  {
   "cell_type": "markdown",
   "id": "05cbebfd-901e-4e5e-b789-85bb7a62f602",
   "metadata": {
    "tags": []
   },
   "source": [
    "# Implementing univariate linear regression:\n",
    "\n",
    "* hypothesis:\n",
    "$\\newline$\n",
    "$h(x) = \\theta_{0} + \\theta_{1} x$\n",
    "$\\newline$\n",
    "* cost func:  \n",
    "$\\newline$\n",
    "$ J(\\theta_{0}, \\theta_{1}) = \\frac{1}{2m} \\sum_{i=1 \\to m} (h(x^{i}) - y^{i})^{2}$\n",
    "$\\newline$\n",
    "* gradient descent: \n",
    "$\\newline$\n",
    "$\\theta_{j} := \\theta_{j} - \\alpha(\\frac{d}{d\\theta_{j}} [J(\\theta_{0}, \\theta_{1}])$\n",
    "$\\newline$"
   ]
  },
  {
   "cell_type": "code",
   "execution_count": 1,
   "id": "61b174c2-e984-40d7-8929-53a2da89afa9",
   "metadata": {
    "tags": []
   },
   "outputs": [],
   "source": [
    "import numpy as np"
   ]
  },
  {
   "cell_type": "code",
   "execution_count": 2,
   "id": "b02fda09-327a-474c-b8a9-a2f925653240",
   "metadata": {
    "tags": []
   },
   "outputs": [],
   "source": [
    "# hypothesis function\n",
    "def create_model(i: float,\n",
    "                 j: float,\n",
    "                 x: int) -> float:\n",
    "    return (i + (j*x))"
   ]
  },
  {
   "cell_type": "code",
   "execution_count": 3,
   "id": "30e469d9-ae95-4bd8-bd5a-5443233edea9",
   "metadata": {
    "tags": []
   },
   "outputs": [
    {
     "name": "stdout",
     "output_type": "stream",
     "text": [
      "6\n"
     ]
    }
   ],
   "source": [
    "print(create_model(0, 2, 3));"
   ]
  },
  {
   "cell_type": "code",
   "execution_count": 4,
   "id": "6289bc43-49ec-4d9f-b46e-c6f694b7c920",
   "metadata": {},
   "outputs": [],
   "source": [
    "# split data into training and test sets\n",
    "def split_data(x: np.float64,\n",
    "               y: np.float64,\n",
    "               train_size: int,\n",
    "               random_seed: int = 0):\n",
    "    \n",
    "    assert len(x) == len(y), 'independent and dependent list should contain the same number of elements.'\n",
    "    assert 0 < train_size < 101, 'train size should be in the range [0, 100]'\n",
    "    \n",
    "    div =  int((len(x) * train_size)/100) # create a division number using percentage provided through test_size param\n",
    "    \n",
    "    x_train = np.array(x[:div])\n",
    "    y_train = np.array(y[:div])\n",
    "    x_test  = np.array(x[div:])\n",
    "    y_test  = np.array(y[div:])\n",
    "    \n",
    "    return x_train, y_train, x_test, y_test"
   ]
  },
  {
   "cell_type": "markdown",
   "id": "5734447b-8c64-4a15-a67e-e1cbe7fd37e1",
   "metadata": {},
   "source": [
    "# brainstroming how to write a derivative function in python:\n",
    "\n",
    "* power rule:\n",
    "$\\newline$\n",
    "$ \\frac{d}{dx} [x^n] = nx^{n-1}$\n",
    "$\\newline$\n",
    "* product rule:\n",
    "$\\newline$\n",
    "$ \\frac{d}{dx} [f(x)\\times g(x)] = f(x)\\times\\frac{d}{dx}(g(x))$\n",
    "$\\newline$\n",
    "* quotient rule:\n",
    "$\\newline$\n",
    "$\\frac{d}{dx} [\\frac{f(x)}{g(x)}] = \\frac{g(x) \\frac{d}{dx}f(x) - f(x) \\frac{d}{dx} g(x)}{g(x)^2}$\n",
    "$\\newline$\n",
    "* chain rule:\n",
    "$\\newline$\n",
    "$\\frac{d}{dx} [f(g(x))] = \\frac{d}{dx}(f(g(x)) \\times \\frac{d}{dx}g(x)$\n",
    "$\\newline$"
   ]
  },
  {
   "cell_type": "markdown",
   "id": "daf01afb-0f69-4124-9af6-e83d8ee9ca38",
   "metadata": {},
   "source": [
    "gradient descent equation:\n",
    "\n",
    "$\\theta_{j} := \\theta_{j} - \\alpha(\\frac{d}{d\\theta_{j}} [J(\\theta_{0}, \\theta_{1}])$\n",
    "\n",
    "derivative:\n",
    "$\\frac{df}{du}(a) = \\frac{f(a + \\delta) - f(a - \\delta)}{2 \\times \\delta}$: definition from the deep learning from scratch book"
   ]
  },
  {
   "cell_type": "code",
   "execution_count": 69,
   "id": "7bf74e0b-da45-4c4e-91d3-794aebdde52b",
   "metadata": {},
   "outputs": [],
   "source": [
    "def squared_error_0(size: int,\n",
    "                  theta0: float,\n",
    "                  theta1: float,\n",
    "                  x: np.array,\n",
    "                  y: np.array):\n",
    "    \n",
    "    squared_err = 0;\n",
    "    for i in range(size):\n",
    "        squared_err += (theta0 + theta1 * x[i] - y[i])\n",
    "        \n",
    "    return squared_err/size\n",
    "\n",
    "def squared_error_1(size: int,\n",
    "                  theta0: float,\n",
    "                  theta1: float,\n",
    "                  x: np.array,\n",
    "                  y: np.array):\n",
    "    \n",
    "    squared_err = 0;\n",
    "    for i in range(size):\n",
    "        squared_err += (theta0 + theta1 * x[i] - y[i]) * x[i]\n",
    "        \n",
    "    return squared_err/size"
   ]
  },
  {
   "cell_type": "code",
   "execution_count": 70,
   "id": "47e0f4bb-d732-45b0-a77a-042f1888ee2e",
   "metadata": {},
   "outputs": [],
   "source": [
    "def gradient_descent(theta0: float,\n",
    "                     theta1: float,\n",
    "                     episode: int,\n",
    "                     alpha: float = 0.2):\n",
    "    \n",
    "    for i in range(episode):\n",
    "        temp0 = theta0 - alpha * (1/len(x_train)) * squared_error_0(len(x_train), theta0, theta1, x_train, y_train);\n",
    "        temp1 = theta1 - alpha * (1/len(x_train)) * squared_error_1(len(x_train), theta0, theta1, x_train, y_train);\n",
    "        theta0 = temp0;\n",
    "        theta1 = temp1;\n",
    "        \n",
    "    return theta0, theta1"
   ]
  },
  {
   "cell_type": "code",
   "execution_count": 71,
   "id": "e8824057-e00f-42e7-ac1d-edcf6d39c48b",
   "metadata": {},
   "outputs": [],
   "source": [
    "import pandas as pd"
   ]
  },
  {
   "cell_type": "code",
   "execution_count": 72,
   "id": "02ad1380-ba3a-445b-8e26-c27a6dcfeffd",
   "metadata": {},
   "outputs": [
    {
     "data": {
      "text/html": [
       "<div>\n",
       "<style scoped>\n",
       "    .dataframe tbody tr th:only-of-type {\n",
       "        vertical-align: middle;\n",
       "    }\n",
       "\n",
       "    .dataframe tbody tr th {\n",
       "        vertical-align: top;\n",
       "    }\n",
       "\n",
       "    .dataframe thead th {\n",
       "        text-align: right;\n",
       "    }\n",
       "</style>\n",
       "<table border=\"1\" class=\"dataframe\">\n",
       "  <thead>\n",
       "    <tr style=\"text-align: right;\">\n",
       "      <th></th>\n",
       "      <th>Index</th>\n",
       "      <th>Height(Inches)</th>\n",
       "      <th>Weight(Pounds)</th>\n",
       "    </tr>\n",
       "  </thead>\n",
       "  <tbody>\n",
       "    <tr>\n",
       "      <th>0</th>\n",
       "      <td>1</td>\n",
       "      <td>65.78331</td>\n",
       "      <td>112.9925</td>\n",
       "    </tr>\n",
       "    <tr>\n",
       "      <th>1</th>\n",
       "      <td>2</td>\n",
       "      <td>71.51521</td>\n",
       "      <td>136.4873</td>\n",
       "    </tr>\n",
       "    <tr>\n",
       "      <th>2</th>\n",
       "      <td>3</td>\n",
       "      <td>69.39874</td>\n",
       "      <td>153.0269</td>\n",
       "    </tr>\n",
       "    <tr>\n",
       "      <th>3</th>\n",
       "      <td>4</td>\n",
       "      <td>68.21660</td>\n",
       "      <td>142.3354</td>\n",
       "    </tr>\n",
       "    <tr>\n",
       "      <th>4</th>\n",
       "      <td>5</td>\n",
       "      <td>67.78781</td>\n",
       "      <td>144.2971</td>\n",
       "    </tr>\n",
       "    <tr>\n",
       "      <th>...</th>\n",
       "      <td>...</td>\n",
       "      <td>...</td>\n",
       "      <td>...</td>\n",
       "    </tr>\n",
       "    <tr>\n",
       "      <th>24995</th>\n",
       "      <td>24996</td>\n",
       "      <td>69.50215</td>\n",
       "      <td>118.0312</td>\n",
       "    </tr>\n",
       "    <tr>\n",
       "      <th>24996</th>\n",
       "      <td>24997</td>\n",
       "      <td>64.54826</td>\n",
       "      <td>120.1932</td>\n",
       "    </tr>\n",
       "    <tr>\n",
       "      <th>24997</th>\n",
       "      <td>24998</td>\n",
       "      <td>64.69855</td>\n",
       "      <td>118.2655</td>\n",
       "    </tr>\n",
       "    <tr>\n",
       "      <th>24998</th>\n",
       "      <td>24999</td>\n",
       "      <td>67.52918</td>\n",
       "      <td>132.2682</td>\n",
       "    </tr>\n",
       "    <tr>\n",
       "      <th>24999</th>\n",
       "      <td>25000</td>\n",
       "      <td>68.87761</td>\n",
       "      <td>124.8742</td>\n",
       "    </tr>\n",
       "  </tbody>\n",
       "</table>\n",
       "<p>25000 rows × 3 columns</p>\n",
       "</div>"
      ],
      "text/plain": [
       "       Index  Height(Inches)  Weight(Pounds)\n",
       "0          1        65.78331        112.9925\n",
       "1          2        71.51521        136.4873\n",
       "2          3        69.39874        153.0269\n",
       "3          4        68.21660        142.3354\n",
       "4          5        67.78781        144.2971\n",
       "...      ...             ...             ...\n",
       "24995  24996        69.50215        118.0312\n",
       "24996  24997        64.54826        120.1932\n",
       "24997  24998        64.69855        118.2655\n",
       "24998  24999        67.52918        132.2682\n",
       "24999  25000        68.87761        124.8742\n",
       "\n",
       "[25000 rows x 3 columns]"
      ]
     },
     "execution_count": 72,
     "metadata": {},
     "output_type": "execute_result"
    }
   ],
   "source": [
    "imported_data = pd.read_csv('SOCR-HeightWeight.csv')\n",
    "imported_data"
   ]
  },
  {
   "cell_type": "code",
   "execution_count": 73,
   "id": "41465475-b608-4ddd-97a3-796d47438038",
   "metadata": {},
   "outputs": [],
   "source": [
    "dependent_var = ['Weight(Pounds)']\n",
    "independent_var = ['Height(Inches)']"
   ]
  },
  {
   "cell_type": "code",
   "execution_count": 74,
   "id": "a05952c4-e9c4-4661-b1c9-b51e644201eb",
   "metadata": {},
   "outputs": [],
   "source": [
    "x_train, y_train, x_test, y_test = split_data(imported_data[independent_var], imported_data[dependent_var], 80)"
   ]
  },
  {
   "cell_type": "code",
   "execution_count": 75,
   "id": "3ac40ee2-b909-4cff-a0b3-a9aaeb5a6a0e",
   "metadata": {},
   "outputs": [
    {
     "name": "stdout",
     "output_type": "stream",
     "text": [
      "20000\n",
      "5000\n"
     ]
    }
   ],
   "source": [
    "print(len(x_train))\n",
    "print(len(x_test))"
   ]
  },
  {
   "cell_type": "code",
   "execution_count": 76,
   "id": "c2837cab-5305-44af-9722-e0eb2b758784",
   "metadata": {},
   "outputs": [
    {
     "name": "stdout",
     "output_type": "stream",
     "text": [
      "[0.02729169]\n",
      "[1.8699685]\n"
     ]
    }
   ],
   "source": [
    "theta0, theta1 = gradient_descent(0, 0, 300)\n",
    "print(theta0)\n",
    "print(theta1)"
   ]
  },
  {
   "cell_type": "code",
   "execution_count": 77,
   "id": "889e27e7-5b86-4333-92b8-bd0e612022ee",
   "metadata": {},
   "outputs": [
    {
     "name": "stdout",
     "output_type": "stream",
     "text": [
      "input height in inches: [68.84104], \n",
      "predected weight in pounds : [128.75786815], \n",
      "actual weight in pounds: [122.8631]\n"
     ]
    }
   ],
   "source": [
    "hyp = create_model(theta0, theta1, x_test[1000])\n",
    "print(f'input height in inches: {x_test[1000]}, \\npredected weight in pounds : {hyp}, \\nactual weight in pounds: {y_test[1000]}')"
   ]
  },
  {
   "cell_type": "code",
   "execution_count": 78,
   "id": "df99f58f-3222-478c-b420-3d37cf2ead2b",
   "metadata": {},
   "outputs": [],
   "source": [
    "def test_model(size: int,\n",
    "               theta0: float,\n",
    "               theta1: float,\n",
    "               x: np.array,\n",
    "               y: np.array):\n",
    "    \n",
    "    squared_error = 0\n",
    "    for i in range(size):\n",
    "        squared_error += pow((create_model(theta0, theta1, x[i]) - y[i]), 2)\n",
    "        \n",
    "    return float(squared_error/(2 * size))"
   ]
  },
  {
   "cell_type": "code",
   "execution_count": 79,
   "id": "3f666926-ed69-467f-9799-b09e6c8633f2",
   "metadata": {},
   "outputs": [
    {
     "name": "stdout",
     "output_type": "stream",
     "text": [
      "over 5000 data points, there is a squared error difference of 53.176873930569506\n"
     ]
    }
   ],
   "source": [
    "err = test_model(len(x_test), theta0, theta1, x_test, y_test)\n",
    "print(f'over {len(x_test)} data points, there is a squared error difference of {err}')"
   ]
  },
  {
   "cell_type": "code",
   "execution_count": null,
   "id": "ff460014-80fb-4080-92b5-b5fcc6df80aa",
   "metadata": {},
   "outputs": [],
   "source": []
  },
  {
   "cell_type": "code",
   "execution_count": null,
   "id": "757b33fb-8be0-4c38-ad70-0333fa5f5e2f",
   "metadata": {},
   "outputs": [],
   "source": []
  },
  {
   "cell_type": "code",
   "execution_count": null,
   "id": "89156dac-77d0-4720-b38c-0661a39a93dc",
   "metadata": {},
   "outputs": [],
   "source": []
  },
  {
   "cell_type": "code",
   "execution_count": null,
   "id": "8c81e4c4-2e49-4816-ba87-7a8ba1d33046",
   "metadata": {},
   "outputs": [],
   "source": []
  },
  {
   "cell_type": "code",
   "execution_count": null,
   "id": "184db399-cfa2-4cee-8d57-62aa6c0c8e46",
   "metadata": {},
   "outputs": [],
   "source": []
  },
  {
   "cell_type": "code",
   "execution_count": null,
   "id": "3c8de077-d729-459f-8533-1ec2cc9cc65b",
   "metadata": {},
   "outputs": [],
   "source": []
  },
  {
   "cell_type": "code",
   "execution_count": null,
   "id": "ef86d7a0-7064-4c65-be5f-837136d439e8",
   "metadata": {},
   "outputs": [],
   "source": []
  },
  {
   "cell_type": "code",
   "execution_count": null,
   "id": "f9265c12-d707-4dac-b0ab-b78c3a1afb3b",
   "metadata": {},
   "outputs": [],
   "source": []
  },
  {
   "cell_type": "code",
   "execution_count": null,
   "id": "e5c36f48-741d-49ff-8550-49883c128987",
   "metadata": {},
   "outputs": [],
   "source": []
  },
  {
   "cell_type": "code",
   "execution_count": null,
   "id": "d2fd01be-92bd-4145-bcb7-1d9d1fe97151",
   "metadata": {},
   "outputs": [],
   "source": []
  },
  {
   "cell_type": "code",
   "execution_count": null,
   "id": "07ed058c-0c1c-4bfa-931d-9c5ac7f59ed3",
   "metadata": {},
   "outputs": [],
   "source": []
  }
 ],
 "metadata": {
  "kernelspec": {
   "display_name": "Python 3 (ipykernel)",
   "language": "python",
   "name": "python3"
  },
  "language_info": {
   "codemirror_mode": {
    "name": "ipython",
    "version": 3
   },
   "file_extension": ".py",
   "mimetype": "text/x-python",
   "name": "python",
   "nbconvert_exporter": "python",
   "pygments_lexer": "ipython3",
   "version": "3.11.5"
  }
 },
 "nbformat": 4,
 "nbformat_minor": 5
}
